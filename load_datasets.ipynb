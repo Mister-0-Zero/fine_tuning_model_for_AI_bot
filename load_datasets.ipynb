{
 "cells": [
  {
   "cell_type": "code",
   "execution_count": 8,
   "id": "28a9b5f3",
   "metadata": {},
   "outputs": [],
   "source": [
    "from datasets import load_dataset"
   ]
  },
  {
   "cell_type": "markdown",
   "id": "1140df6a",
   "metadata": {},
   "source": [
    "## Датасет с русским языком"
   ]
  },
  {
   "cell_type": "code",
   "execution_count": 9,
   "id": "532ff7e3",
   "metadata": {},
   "outputs": [
    {
     "name": "stderr",
     "output_type": "stream",
     "text": [
      "Saving the dataset (1/1 shards): 100%|██████████| 50000/50000 [00:00<00:00, 89177.56 examples/s]\n"
     ]
    }
   ],
   "source": [
    "ds = load_dataset(\"Den4ikAI/russian_dialogues\", split=\"train\")\n",
    "ds = ds.shuffle(seed=0).select(range(50000))\n",
    "ds.save_to_disk(\"./data/russian_dialogues_20k\")"
   ]
  },
  {
   "cell_type": "code",
   "execution_count": 14,
   "id": "a191eb0b",
   "metadata": {},
   "outputs": [],
   "source": [
    "def pick(ds):\n",
    "    n = len(ds)\n",
    "    if n <= 5000:\n",
    "        return ds.shuffle(seed=0)\n",
    "    else:\n",
    "        return ds.shuffle(seed=0).select(range(5000))"
   ]
  },
  {
   "cell_type": "code",
   "execution_count": 15,
   "id": "7dfe9d1d",
   "metadata": {},
   "outputs": [
    {
     "name": "stderr",
     "output_type": "stream",
     "text": [
      "Saving the dataset (1/1 shards): 100%|██████████| 5000/5000 [00:00<00:00, 40355.84 examples/s]"
     ]
    },
    {
     "name": "stdout",
     "output_type": "stream",
     "text": [
      "GSM8K selected: 5000\n",
      "{'question': Value('string'), 'answer': Value('string')}\n"
     ]
    },
    {
     "name": "stderr",
     "output_type": "stream",
     "text": [
      "\n"
     ]
    }
   ],
   "source": [
    "gsm8k = load_dataset(\"gsm8k\", \"main\", split=\"train\")\n",
    "gsm8k_sel = pick(gsm8k)\n",
    "gsm8k_sel.save_to_disk(\"./data/gsm8k_sel\")\n",
    "print(\"GSM8K selected:\", len(gsm8k_sel))\n",
    "print(gsm8k_sel.features)"
   ]
  },
  {
   "cell_type": "code",
   "execution_count": 16,
   "id": "402a2a7d",
   "metadata": {},
   "outputs": [
    {
     "name": "stderr",
     "output_type": "stream",
     "text": [
      "Xet Storage is enabled for this repo, but the 'hf_xet' package is not installed. Falling back to regular HTTP download. For better performance, install the package with: `pip install huggingface_hub[hf_xet]` or `pip install hf_xet`\n",
      "Xet Storage is enabled for this repo, but the 'hf_xet' package is not installed. Falling back to regular HTTP download. For better performance, install the package with: `pip install huggingface_hub[hf_xet]` or `pip install hf_xet`\n",
      "Generating train split: 100%|██████████| 1417/1417 [00:00<00:00, 283731.74 examples/s]\n",
      "Generating test split: 100%|██████████| 355/355 [00:00<00:00, 88157.37 examples/s]\n",
      "Saving the dataset (1/1 shards): 100%|██████████| 1417/1417 [00:00<00:00, 101035.78 examples/s]"
     ]
    },
    {
     "name": "stdout",
     "output_type": "stream",
     "text": [
      "MAWPS: 1417\n",
      "{'question': Value('string'), 'answer': Value('string')}\n"
     ]
    },
    {
     "name": "stderr",
     "output_type": "stream",
     "text": [
      "\n"
     ]
    }
   ],
   "source": [
    "mawps = load_dataset(\"garrethlee/MAWPS\", split=\"train\")\n",
    "mawps_sel = pick(mawps)\n",
    "mawps_sel.save_to_disk(\"./data/mawps_sel\")\n",
    "print(\"MAWPS:\", len(mawps_sel))\n",
    "print(mawps_sel.features)"
   ]
  },
  {
   "cell_type": "code",
   "execution_count": 17,
   "id": "2dc93b13",
   "metadata": {},
   "outputs": [
    {
     "name": "stderr",
     "output_type": "stream",
     "text": [
      "Generating train split: 100%|██████████| 1200/1200 [00:00<00:00, 200261.20 examples/s]\n",
      "Generating test split: 100%|██████████| 301/301 [00:00<00:00, 100356.56 examples/s]\n",
      "Saving the dataset (1/1 shards): 100%|██████████| 1200/1200 [00:00<00:00, 79905.46 examples/s]"
     ]
    },
    {
     "name": "stdout",
     "output_type": "stream",
     "text": [
      "ASDiv: 1200\n",
      "{'text': Value('string'), 'target': Value('string'), 'label': Value('string')}\n"
     ]
    },
    {
     "name": "stderr",
     "output_type": "stream",
     "text": [
      "\n"
     ]
    }
   ],
   "source": [
    "asdiv = load_dataset(\"yimingzhang/asdiv\", split=\"train\")\n",
    "asdiv_sel = pick(asdiv)\n",
    "asdiv_sel.save_to_disk(\"./data/asdiv_sel\")\n",
    "print(\"ASDiv:\", len(asdiv_sel))\n",
    "print(asdiv_sel.features)"
   ]
  },
  {
   "cell_type": "code",
   "execution_count": 21,
   "id": "452c368c",
   "metadata": {},
   "outputs": [
    {
     "name": "stderr",
     "output_type": "stream",
     "text": [
      "Generating train split: 100%|██████████| 20868/20868 [00:00<00:00, 417426.08 examples/s]\n",
      "Saving the dataset (1/1 shards): 100%|██████████| 5000/5000 [00:00<00:00, 35993.65 examples/s]"
     ]
    },
    {
     "name": "stdout",
     "output_type": "stream",
     "text": [
      "MathQA: 5000\n",
      "{'id': Value('string'), 'question': Value('string'), 'chain': Value('string'), 'result': Value('string'), 'result_float': Value('float64'), 'question_without_options': Value('string'), 'options': {'A': Value('string'), 'B': Value('string'), 'C': Value('string'), 'D': Value('string'), 'E': Value('string')}, 'annotated_formula': Value('string'), 'linear_formula': Value('string'), 'rationale': Value('string'), 'category': Value('string')}\n"
     ]
    },
    {
     "name": "stderr",
     "output_type": "stream",
     "text": [
      "\n"
     ]
    }
   ],
   "source": [
    "mathqa = load_dataset(\"MU-NLPC/calc-math_qa\", split=\"train\")\n",
    "mathqa_sel = pick(mathqa)\n",
    "mathqa_sel.save_to_disk(\"./data/mathqa_sel\")\n",
    "print(\"MathQA:\", len(mathqa_sel))\n",
    "print(mathqa_sel.features)"
   ]
  },
  {
   "cell_type": "code",
   "execution_count": null,
   "id": "b9e5f290",
   "metadata": {},
   "outputs": [
    {
     "name": "stderr",
     "output_type": "stream",
     "text": [
      "Xet Storage is enabled for this repo, but the 'hf_xet' package is not installed. Falling back to regular HTTP download. For better performance, install the package with: `pip install huggingface_hub[hf_xet]` or `pip install hf_xet`\n",
      "Xet Storage is enabled for this repo, but the 'hf_xet' package is not installed. Falling back to regular HTTP download. For better performance, install the package with: `pip install huggingface_hub[hf_xet]` or `pip install hf_xet`\n",
      "Xet Storage is enabled for this repo, but the 'hf_xet' package is not installed. Falling back to regular HTTP download. For better performance, install the package with: `pip install huggingface_hub[hf_xet]` or `pip install hf_xet`\n",
      "Generating train split: 100%|██████████| 4957/4957 [00:00<00:00, 494592.02 examples/s]\n",
      "Generating validation split: 100%|██████████| 500/500 [00:00<00:00, 100078.84 examples/s]\n",
      "Generating test split: 100%|██████████| 500/500 [00:00<00:00, 124875.07 examples/s]\n",
      "Saving the dataset (1/1 shards): 100%|██████████| 4957/4957 [00:00<00:00, 81316.82 examples/s]"
     ]
    },
    {
     "name": "stdout",
     "output_type": "stream",
     "text": [
      "OpenBookQA selected: 4957\n",
      "{'id': Value('string'), 'question_stem': Value('string'), 'choices': {'text': List(Value('string')), 'label': List(Value('string'))}, 'answerKey': Value('string')}\n"
     ]
    },
    {
     "name": "stderr",
     "output_type": "stream",
     "text": [
      "\n"
     ]
    }
   ],
   "source": [
    "openbookqa = load_dataset(\"openbookqa\", \"main\", split=\"train\")\n",
    "openbookqa_sel = pick(openbookqa)\n",
    "openbookqa_sel.save_to_disk(\"./data/openbookqa_sel\")\n",
    "print(\"OpenBookQA selected:\", len(openbookqa_sel))\n",
    "print(openbookqa_sel.features)"
   ]
  }
 ],
 "metadata": {
  "kernelspec": {
   "display_name": "Python 3",
   "language": "python",
   "name": "python3"
  },
  "language_info": {
   "codemirror_mode": {
    "name": "ipython",
    "version": 3
   },
   "file_extension": ".py",
   "mimetype": "text/x-python",
   "name": "python",
   "nbconvert_exporter": "python",
   "pygments_lexer": "ipython3",
   "version": "3.11.2"
  }
 },
 "nbformat": 4,
 "nbformat_minor": 5
}
