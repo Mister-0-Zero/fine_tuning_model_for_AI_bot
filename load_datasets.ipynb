{
 "cells": [
  {
   "cell_type": "code",
   "execution_count": 9,
   "id": "28a9b5f3",
   "metadata": {},
   "outputs": [],
   "source": [
    "from datasets import load_dataset"
   ]
  },
  {
   "cell_type": "markdown",
   "id": "1140df6a",
   "metadata": {},
   "source": [
    "## Датасет с русским языком"
   ]
  },
  {
   "cell_type": "code",
   "execution_count": 10,
   "id": "a191eb0b",
   "metadata": {},
   "outputs": [],
   "source": [
    "def pick(ds):\n",
    "    n = len(ds)\n",
    "    if n <= 11500:\n",
    "        return ds.shuffle(seed=0)\n",
    "    else:\n",
    "        return ds.shuffle(seed=0).select(range(11500))"
   ]
  },
  {
   "cell_type": "code",
   "execution_count": 11,
   "id": "47bcfb80",
   "metadata": {},
   "outputs": [
    {
     "name": "stderr",
     "output_type": "stream",
     "text": [
      "Saving the dataset (1/1 shards): 100%|██████████| 11500/11500 [00:00<00:00, 76200.80 examples/s]"
     ]
    },
    {
     "name": "stdout",
     "output_type": "stream",
     "text": [
      "GSM8K selected: 11500\n",
      "{'question': Value('string'), 'answer': Value('string'), 'relevance': Value('int64')}\n"
     ]
    },
    {
     "name": "stderr",
     "output_type": "stream",
     "text": [
      "\n"
     ]
    }
   ],
   "source": [
    "russian_dialogues = load_dataset(\"Den4ikAI/russian_dialogues\", split=\"train\")\n",
    "russian_dialogues = pick(russian_dialogues)\n",
    "russian_dialogues.save_to_disk(\"./data/russian_dialogues\")\n",
    "print(\"GSM8K selected:\", len(russian_dialogues))\n",
    "print(russian_dialogues.features)"
   ]
  },
  {
   "cell_type": "code",
   "execution_count": 12,
   "id": "7dfe9d1d",
   "metadata": {},
   "outputs": [
    {
     "name": "stderr",
     "output_type": "stream",
     "text": [
      "Saving the dataset (1/1 shards): 100%|██████████| 7473/7473 [00:00<00:00, 149547.14 examples/s]"
     ]
    },
    {
     "name": "stdout",
     "output_type": "stream",
     "text": [
      "GSM8K selected: 7473\n",
      "{'question': Value('string'), 'answer': Value('string')}\n"
     ]
    },
    {
     "name": "stderr",
     "output_type": "stream",
     "text": [
      "\n"
     ]
    }
   ],
   "source": [
    "gsm8k = load_dataset(\"gsm8k\", \"main\", split=\"train\")\n",
    "gsm8k_sel = pick(gsm8k)\n",
    "gsm8k_sel.save_to_disk(\"./data/gsm8k_sel\")\n",
    "print(\"GSM8K selected:\", len(gsm8k_sel))\n",
    "print(gsm8k_sel.features)"
   ]
  },
  {
   "cell_type": "code",
   "execution_count": 13,
   "id": "402a2a7d",
   "metadata": {},
   "outputs": [
    {
     "name": "stderr",
     "output_type": "stream",
     "text": [
      "Saving the dataset (1/1 shards): 100%|██████████| 1417/1417 [00:00<00:00, 109278.48 examples/s]"
     ]
    },
    {
     "name": "stdout",
     "output_type": "stream",
     "text": [
      "MAWPS: 1417\n",
      "{'question': Value('string'), 'answer': Value('string')}\n"
     ]
    },
    {
     "name": "stderr",
     "output_type": "stream",
     "text": [
      "\n"
     ]
    }
   ],
   "source": [
    "mawps = load_dataset(\"garrethlee/MAWPS\", split=\"train\")\n",
    "mawps_sel = pick(mawps)\n",
    "mawps_sel.save_to_disk(\"./data/mawps_sel\")\n",
    "print(\"MAWPS:\", len(mawps_sel))\n",
    "print(mawps_sel.features)"
   ]
  },
  {
   "cell_type": "code",
   "execution_count": 14,
   "id": "2dc93b13",
   "metadata": {},
   "outputs": [
    {
     "name": "stderr",
     "output_type": "stream",
     "text": [
      "Saving the dataset (1/1 shards): 100%|██████████| 1200/1200 [00:00<00:00, 80214.91 examples/s]"
     ]
    },
    {
     "name": "stdout",
     "output_type": "stream",
     "text": [
      "ASDiv: 1200\n",
      "{'text': Value('string'), 'target': Value('string'), 'label': Value('string')}\n"
     ]
    },
    {
     "name": "stderr",
     "output_type": "stream",
     "text": [
      "\n"
     ]
    }
   ],
   "source": [
    "asdiv = load_dataset(\"yimingzhang/asdiv\", split=\"train\")\n",
    "asdiv_sel = pick(asdiv)\n",
    "asdiv_sel.save_to_disk(\"./data/asdiv_sel\")\n",
    "print(\"ASDiv:\", len(asdiv_sel))\n",
    "print(asdiv_sel.features)"
   ]
  },
  {
   "cell_type": "code",
   "execution_count": 15,
   "id": "452c368c",
   "metadata": {},
   "outputs": [
    {
     "name": "stderr",
     "output_type": "stream",
     "text": [
      "Saving the dataset (1/1 shards): 100%|██████████| 11500/11500 [00:00<00:00, 38740.64 examples/s]"
     ]
    },
    {
     "name": "stdout",
     "output_type": "stream",
     "text": [
      "MathQA: 11500\n",
      "{'id': Value('string'), 'question': Value('string'), 'chain': Value('string'), 'result': Value('string'), 'result_float': Value('float64'), 'question_without_options': Value('string'), 'options': {'A': Value('string'), 'B': Value('string'), 'C': Value('string'), 'D': Value('string'), 'E': Value('string')}, 'annotated_formula': Value('string'), 'linear_formula': Value('string'), 'rationale': Value('string'), 'category': Value('string')}\n"
     ]
    },
    {
     "name": "stderr",
     "output_type": "stream",
     "text": [
      "\n"
     ]
    }
   ],
   "source": [
    "mathqa = load_dataset(\"MU-NLPC/calc-math_qa\", split=\"train\")\n",
    "mathqa_sel = pick(mathqa)\n",
    "mathqa_sel.save_to_disk(\"./data/mathqa_sel\")\n",
    "print(\"MathQA:\", len(mathqa_sel))\n",
    "print(mathqa_sel.features)"
   ]
  },
  {
   "cell_type": "code",
   "execution_count": 16,
   "id": "b9e5f290",
   "metadata": {},
   "outputs": [
    {
     "name": "stderr",
     "output_type": "stream",
     "text": [
      "Saving the dataset (1/1 shards): 100%|██████████| 4957/4957 [00:00<00:00, 76304.85 examples/s]"
     ]
    },
    {
     "name": "stdout",
     "output_type": "stream",
     "text": [
      "OpenBookQA selected: 4957\n",
      "{'id': Value('string'), 'question_stem': Value('string'), 'choices': {'text': List(Value('string')), 'label': List(Value('string'))}, 'answerKey': Value('string')}\n"
     ]
    },
    {
     "name": "stderr",
     "output_type": "stream",
     "text": [
      "\n"
     ]
    }
   ],
   "source": [
    "openbookqa = load_dataset(\"openbookqa\", \"main\", split=\"train\")\n",
    "openbookqa_sel = pick(openbookqa)\n",
    "openbookqa_sel.save_to_disk(\"./data/openbookqa_sel\")\n",
    "print(\"OpenBookQA selected:\", len(openbookqa_sel))\n",
    "print(openbookqa_sel.features)"
   ]
  }
 ],
 "metadata": {
  "kernelspec": {
   "display_name": "Python 3",
   "language": "python",
   "name": "python3"
  },
  "language_info": {
   "codemirror_mode": {
    "name": "ipython",
    "version": 3
   },
   "file_extension": ".py",
   "mimetype": "text/x-python",
   "name": "python",
   "nbconvert_exporter": "python",
   "pygments_lexer": "ipython3",
   "version": "3.11.2"
  }
 },
 "nbformat": 4,
 "nbformat_minor": 5
}
