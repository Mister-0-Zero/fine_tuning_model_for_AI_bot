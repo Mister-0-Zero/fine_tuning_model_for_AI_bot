{
 "cells": [
  {
   "cell_type": "code",
   "execution_count": 8,
   "id": "28a9b5f3",
   "metadata": {},
   "outputs": [],
   "source": [
    "from datasets import load_dataset"
   ]
  },
  {
   "cell_type": "markdown",
   "id": "1140df6a",
   "metadata": {},
   "source": [
    "## Датасет с русским языком"
   ]
  },
  {
   "cell_type": "code",
   "execution_count": 9,
   "id": "532ff7e3",
   "metadata": {},
   "outputs": [
    {
     "name": "stderr",
     "output_type": "stream",
     "text": [
      "Saving the dataset (1/1 shards): 100%|██████████| 50000/50000 [00:00<00:00, 89177.56 examples/s]\n"
     ]
    }
   ],
   "source": [
    "ds = load_dataset(\"Den4ikAI/russian_dialogues\", split=\"train\")\n",
    "ds = ds.shuffle(seed=0).select(range(50000))\n",
    "ds.save_to_disk(\"./data/russian_dialogues_20k\")"
   ]
  },
  {
   "cell_type": "code",
   "execution_count": 14,
   "id": "a191eb0b",
   "metadata": {},
   "outputs": [],
   "source": [
    "def pick(ds):\n",
    "    n = len(ds)\n",
    "    if n <= 5000:\n",
    "        return ds.shuffle(seed=0)\n",
    "    else:\n",
    "        return ds.shuffle(seed=0).select(range(5000))"
   ]
  },
  {
   "cell_type": "code",
   "execution_count": 15,
   "id": "7dfe9d1d",
   "metadata": {},
   "outputs": [
    {
     "name": "stderr",
     "output_type": "stream",
     "text": [
      "Saving the dataset (1/1 shards): 100%|██████████| 5000/5000 [00:00<00:00, 40355.84 examples/s]"
     ]
    },
    {
     "name": "stdout",
     "output_type": "stream",
     "text": [
      "GSM8K selected: 5000\n",
      "{'question': Value('string'), 'answer': Value('string')}\n"
     ]
    },
    {
     "name": "stderr",
     "output_type": "stream",
     "text": [
      "\n"
     ]
    }
   ],
   "source": [
    "gsm8k = load_dataset(\"gsm8k\", \"main\", split=\"train\")\n",
    "gsm8k_sel = pick(gsm8k)\n",
    "gsm8k_sel.save_to_disk(\"./data/gsm8k_sel\")\n",
    "print(\"GSM8K selected:\", len(gsm8k_sel))\n",
    "print(gsm8k_sel.features)"
   ]
  },
  {
   "cell_type": "code",
   "execution_count": 16,
   "id": "402a2a7d",
   "metadata": {},
   "outputs": [
    {
     "name": "stderr",
     "output_type": "stream",
     "text": [
      "Xet Storage is enabled for this repo, but the 'hf_xet' package is not installed. Falling back to regular HTTP download. For better performance, install the package with: `pip install huggingface_hub[hf_xet]` or `pip install hf_xet`\n",
      "Xet Storage is enabled for this repo, but the 'hf_xet' package is not installed. Falling back to regular HTTP download. For better performance, install the package with: `pip install huggingface_hub[hf_xet]` or `pip install hf_xet`\n",
      "Generating train split: 100%|██████████| 1417/1417 [00:00<00:00, 283731.74 examples/s]\n",
      "Generating test split: 100%|██████████| 355/355 [00:00<00:00, 88157.37 examples/s]\n",
      "Saving the dataset (1/1 shards): 100%|██████████| 1417/1417 [00:00<00:00, 101035.78 examples/s]"
     ]
    },
    {
     "name": "stdout",
     "output_type": "stream",
     "text": [
      "MAWPS: 1417\n",
      "{'question': Value('string'), 'answer': Value('string')}\n"
     ]
    },
    {
     "name": "stderr",
     "output_type": "stream",
     "text": [
      "\n"
     ]
    }
   ],
   "source": [
    "mawps = load_dataset(\"garrethlee/MAWPS\", split=\"train\")\n",
    "mawps_sel = pick(mawps)\n",
    "mawps_sel.save_to_disk(\"./data/mawps_sel\")\n",
    "print(\"MAWPS:\", len(mawps_sel))\n",
    "print(mawps_sel.features)"
   ]
  }
 ],
 "metadata": {
  "kernelspec": {
   "display_name": "Python 3",
   "language": "python",
   "name": "python3"
  },
  "language_info": {
   "codemirror_mode": {
    "name": "ipython",
    "version": 3
   },
   "file_extension": ".py",
   "mimetype": "text/x-python",
   "name": "python",
   "nbconvert_exporter": "python",
   "pygments_lexer": "ipython3",
   "version": "3.11.2"
  }
 },
 "nbformat": 4,
 "nbformat_minor": 5
}
